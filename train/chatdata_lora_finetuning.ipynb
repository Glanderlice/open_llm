{
 "cells": [
  {
   "cell_type": "markdown",
   "source": [
    "## 注意事项：\n",
    "1.使用Meta-Llama-3-8B-Instruct版本微调, 原始版本或中文微调版本都可以, 但最好不要用这个预训练Meta-Llama-3-8B模型来微调, 因为调用它的tokenizer.apply_chat_template返回的结果并不符合llama3对话模板, 而是'<|im_start|>user\\n你是谁？<|im_end|>\\n<|im_start|>assistant\\n'这种模板, 你需要去重写它的apply_chat_template\n",
    "2.加载模型进行微调的时候, LlamaForCausalLM和AutoModelForCausalLM都可以, 但torch_dtype需要设置为torch.bfloat16, 如果选用float16则在训练阶段你会看到loss非常大, 比前者高2个数量级, 并且会得到错误的模型, 原因暂时未知"
   ],
   "metadata": {
    "collapsed": false
   },
   "id": "d0554521707443a3"
  },
  {
   "cell_type": "code",
   "execution_count": 1,
   "id": "initial_id",
   "metadata": {
    "collapsed": true,
    "ExecuteTime": {
     "end_time": "2024-08-25T06:26:24.041643Z",
     "start_time": "2024-08-25T06:26:14.943898Z"
    }
   },
   "outputs": [
    {
     "data": {
      "text/plain": "Loading checkpoint shards:   0%|          | 0/4 [00:00<?, ?it/s]",
      "application/vnd.jupyter.widget-view+json": {
       "version_major": 2,
       "version_minor": 0,
       "model_id": "d66baa870d0b471795cb805702c7e9b4"
      }
     },
     "metadata": {},
     "output_type": "display_data"
    },
    {
     "name": "stderr",
     "output_type": "stream",
     "text": [
      "Special tokens have been added in the vocabulary, make sure the associated word embeddings are fine-tuned or trained.\n"
     ]
    }
   ],
   "source": [
    "from transformers import LlamaForCausalLM, AutoTokenizer, AutoModelForCausalLM\n",
    "import torch\n",
    "\n",
    "model_name = \"D:/PycharmProjects/LLM_Project/huanhuan_chat/models/LLM-Research/Meta-Llama-3-8B-Instruct\"\n",
    "# model_name = \"../models/Meta-Llama-3-8B-Instruct\"\n",
    "\n",
    "model = AutoModelForCausalLM.from_pretrained(model_name, device_map=\"cuda:0\",torch_dtype=torch.bfloat16, use_cache=False)  # device_map=\"auto\" 自动布置\n",
    "# model = LlamaForCausalLM.from_pretrained(model_name, device_map=\"cuda:0\",torch_dtype=torch.bfloat16, use_cache=False)\n",
    "model.enable_input_require_grads()\n",
    "# model = prepare_model_for_int8_training(model)\n",
    "\n",
    "tokenizer = AutoTokenizer.from_pretrained(model_name)  # 这个从modelscope下载的llama3与HF不太一样\n",
    "tokenizer.pad_token = tokenizer.eos_token\n",
    "tokenizer.padding_side = \"right\""
   ]
  },
  {
   "cell_type": "code",
   "outputs": [
    {
     "name": "stdout",
     "output_type": "stream",
     "text": [
      "trainable params: 20,971,520 || all params: 8,051,232,768 || trainable%: 0.2605\n"
     ]
    }
   ],
   "source": [
    "from peft import LoraConfig, TaskType, get_peft_model\n",
    "\n",
    "loro_config = LoraConfig(\n",
    "    task_type=TaskType.CAUSAL_LM, \n",
    "    target_modules=[\"q_proj\", \"k_proj\", \"v_proj\", \"o_proj\", \"gate_proj\", \"up_proj\", \"down_proj\"],\n",
    "    inference_mode=False, # 训练模式\n",
    "    r=8, # Lora 秩\n",
    "    lora_alpha=32, # Lora alpha，具体作用参见 Lora 原理\n",
    "    lora_dropout=0.05,  # Dropout 比例\n",
    "    bias = \"none\"\n",
    ")\n",
    "\n",
    "model = get_peft_model(model, loro_config)\n",
    "model.print_trainable_parameters()"
   ],
   "metadata": {
    "collapsed": false,
    "ExecuteTime": {
     "end_time": "2024-08-25T06:26:26.750427Z",
     "start_time": "2024-08-25T06:26:25.674408Z"
    }
   },
   "id": "bfe457fdae44b376",
   "execution_count": 2
  },
  {
   "cell_type": "code",
   "outputs": [],
   "source": [
    "def preprocess(sample):\n",
    "        prompt = f\"<|begin_of_text|><|start_header_id|>user<|end_header_id|>\\n\\n{sample['instruction']}{sample['input']}<|eot_id|><|start_header_id|>assistant<|end_header_id|>\\n\\n\"\n",
    "        prompt = tokenizer.encode(prompt, add_special_tokens=False)  # optional: +tokenizer.eos_token\n",
    "        output = tokenizer.encode(f\"{sample['output']}<|eot_id|>\", add_special_tokens=False)  # optional: +tokenizer.eos_token\n",
    "\n",
    "        sample = {\n",
    "            \"input_ids\": prompt + output,\n",
    "            \"attention_mask\": [1] * (len(prompt) + len(output)),\n",
    "            \"labels\": [-100] * len(prompt) + output,\n",
    "        }\n",
    "        return sample"
   ],
   "metadata": {
    "collapsed": false,
    "ExecuteTime": {
     "end_time": "2024-08-25T06:26:31.860627Z",
     "start_time": "2024-08-25T06:26:31.851628Z"
    }
   },
   "id": "df7b7a8050912c41",
   "execution_count": 3
  },
  {
   "cell_type": "code",
   "outputs": [
    {
     "data": {
      "text/plain": "Generating train split: 0 examples [00:00, ? examples/s]",
      "application/vnd.jupyter.widget-view+json": {
       "version_major": 2,
       "version_minor": 0,
       "model_id": "c6ac2e8ab37f44e6a9c0ca349c12c4e5"
      }
     },
     "metadata": {},
     "output_type": "display_data"
    },
    {
     "data": {
      "text/plain": "Map:   0%|          | 0/3729 [00:00<?, ? examples/s]",
      "application/vnd.jupyter.widget-view+json": {
       "version_major": 2,
       "version_minor": 0,
       "model_id": "ac52cc6771104feab0b8c6c68b09d7c7"
      }
     },
     "metadata": {},
     "output_type": "display_data"
    }
   ],
   "source": [
    "import datasets\n",
    "\n",
    "ds = datasets.load_dataset('json', data_files={'train': '../dataset/huanhuan.json'})\n",
    "train_dataset = ds[\"train\"]\n",
    "# train_dataset = ds[\"train\"].map(process_func, remove_columns=train_dataset.column_names)\n",
    "train_dataset = ds[\"train\"].map(preprocess, remove_columns=train_dataset.column_names)"
   ],
   "metadata": {
    "collapsed": false,
    "ExecuteTime": {
     "end_time": "2024-08-25T06:26:54.874019Z",
     "start_time": "2024-08-25T06:26:51.639301Z"
    }
   },
   "id": "c85b76b3b91722ea",
   "execution_count": 4
  },
  {
   "cell_type": "code",
   "outputs": [
    {
     "name": "stdout",
     "output_type": "stream",
     "text": [
      "<|end_of_text|> 128001\n",
      "[128001]\n",
      "[128009]\n",
      "{'input_ids': [128000, 128006, 882, 128007, 271, 111319, 3922, 64022, 9554, 106241, 58850, 72368, 19000, 32018, 16325, 31867, 3922, 113723, 19361, 100389, 109, 80578, 111319, 101067, 101307, 58843, 224, 104241, 45829, 3922, 86894, 102, 113715, 111419, 41914, 50928, 89151, 89151, 103203, 9554, 8713, 128009, 128006, 78191, 128007, 271, 103001, 246, 8713, 72368, 37687, 104894, 110767, 37687, 105150, 126957, 108298, 9554, 1811, 128009], 'attention_mask': [1, 1, 1, 1, 1, 1, 1, 1, 1, 1, 1, 1, 1, 1, 1, 1, 1, 1, 1, 1, 1, 1, 1, 1, 1, 1, 1, 1, 1, 1, 1, 1, 1, 1, 1, 1, 1, 1, 1, 1, 1, 1, 1, 1, 1, 1, 1, 1, 1, 1, 1, 1, 1, 1, 1, 1, 1, 1, 1, 1], 'labels': [-100, -100, -100, -100, -100, -100, -100, -100, -100, -100, -100, -100, -100, -100, -100, -100, -100, -100, -100, -100, -100, -100, -100, -100, -100, -100, -100, -100, -100, -100, -100, -100, -100, -100, -100, -100, -100, -100, -100, -100, -100, -100, -100, -100, -100, -100, 103001, 246, 8713, 72368, 37687, 104894, 110767, 37687, 105150, 126957, 108298, 9554, 1811, 128009]}\n"
     ]
    }
   ],
   "source": [
    "print(tokenizer.eos_token, tokenizer.eos_token_id)\n",
    "print(tokenizer.encode('<|end_of_text|>', add_special_tokens=False))\n",
    "print(tokenizer.encode('<|eot_id|>', add_special_tokens=False))\n",
    "print(train_dataset[0])"
   ],
   "metadata": {
    "collapsed": false,
    "ExecuteTime": {
     "end_time": "2024-08-25T06:26:55.915068Z",
     "start_time": "2024-08-25T06:26:55.902523Z"
    }
   },
   "id": "177b410c1f1991ec",
   "execution_count": 5
  },
  {
   "cell_type": "code",
   "outputs": [],
   "source": [
    "from transformers import TrainingArguments, Trainer, DataCollatorForSeq2Seq\n",
    "\n",
    "args = TrainingArguments(\n",
    "    output_dir=\"output/llama3\",\n",
    "    per_device_train_batch_size=4,\n",
    "    gradient_accumulation_steps=4,\n",
    "    logging_steps=10,\n",
    "    num_train_epochs=1,\n",
    "    save_steps=100,\n",
    "    # learning_rate=1e-4,\n",
    "    save_on_each_node=True,\n",
    "    gradient_checkpointing=True,\n",
    "    gradient_checkpointing_kwargs = {\"use_reentrant\": False},\n",
    "    report_to=\"none\"\n",
    ")\n",
    "\n",
    "optimizer = torch.optim.AdamW(\n",
    "            model.parameters(),\n",
    "            lr=1e-4,\n",
    "            weight_decay=0.0\n",
    "        )\n",
    "# scheduler = torch.optim.lr_scheduler.StepLR(optimizer, step_size=1, gamma=0.85)  # 每当epoch是step_size倍数时进行学习率递减\n",
    "scheduler = torch.optim.lr_scheduler.LinearLR(optimizer, total_iters=100)\n",
    "\n",
    "trainer = Trainer(\n",
    "    model=model,\n",
    "    args=args,\n",
    "    train_dataset=train_dataset,\n",
    "    data_collator=DataCollatorForSeq2Seq(tokenizer=tokenizer, padding=True),\n",
    "    # optimizers=(optimizer, scheduler)\n",
    ")"
   ],
   "metadata": {
    "collapsed": false,
    "ExecuteTime": {
     "end_time": "2024-08-25T06:27:00.075014Z",
     "start_time": "2024-08-25T06:26:58.936729Z"
    }
   },
   "id": "7b33214ca83db319",
   "execution_count": 6
  },
  {
   "cell_type": "code",
   "outputs": [
    {
     "data": {
      "text/plain": "<IPython.core.display.HTML object>",
      "text/html": "\n    <div>\n      \n      <progress value='101' max='233' style='width:300px; height:20px; vertical-align: middle;'></progress>\n      [101/233 01:46 < 02:22, 0.93 it/s, Epoch 0.43/1]\n    </div>\n    <table border=\"1\" class=\"dataframe\">\n  <thead>\n <tr style=\"text-align: left;\">\n      <th>Step</th>\n      <th>Training Loss</th>\n    </tr>\n  </thead>\n  <tbody>\n    <tr>\n      <td>10</td>\n      <td>3.949400</td>\n    </tr>\n    <tr>\n      <td>20</td>\n      <td>3.291100</td>\n    </tr>\n    <tr>\n      <td>30</td>\n      <td>3.047900</td>\n    </tr>\n    <tr>\n      <td>40</td>\n      <td>2.943800</td>\n    </tr>\n    <tr>\n      <td>50</td>\n      <td>2.922900</td>\n    </tr>\n    <tr>\n      <td>60</td>\n      <td>2.918700</td>\n    </tr>\n    <tr>\n      <td>70</td>\n      <td>2.850100</td>\n    </tr>\n    <tr>\n      <td>80</td>\n      <td>2.903500</td>\n    </tr>\n    <tr>\n      <td>90</td>\n      <td>2.896400</td>\n    </tr>\n  </tbody>\n</table><p>"
     },
     "metadata": {},
     "output_type": "display_data"
    },
    {
     "data": {
      "text/plain": "<IPython.core.display.HTML object>",
      "text/html": "\n    <div>\n      \n      <progress value='201' max='233' style='width:300px; height:20px; vertical-align: middle;'></progress>\n      [201/233 03:37 < 00:34, 0.91 it/s, Epoch 0.86/1]\n    </div>\n    <table border=\"1\" class=\"dataframe\">\n  <thead>\n <tr style=\"text-align: left;\">\n      <th>Step</th>\n      <th>Training Loss</th>\n    </tr>\n  </thead>\n  <tbody>\n    <tr>\n      <td>10</td>\n      <td>3.949400</td>\n    </tr>\n    <tr>\n      <td>20</td>\n      <td>3.291100</td>\n    </tr>\n    <tr>\n      <td>30</td>\n      <td>3.047900</td>\n    </tr>\n    <tr>\n      <td>40</td>\n      <td>2.943800</td>\n    </tr>\n    <tr>\n      <td>50</td>\n      <td>2.922900</td>\n    </tr>\n    <tr>\n      <td>60</td>\n      <td>2.918700</td>\n    </tr>\n    <tr>\n      <td>70</td>\n      <td>2.850100</td>\n    </tr>\n    <tr>\n      <td>80</td>\n      <td>2.903500</td>\n    </tr>\n    <tr>\n      <td>90</td>\n      <td>2.896400</td>\n    </tr>\n    <tr>\n      <td>100</td>\n      <td>2.775000</td>\n    </tr>\n    <tr>\n      <td>110</td>\n      <td>2.769800</td>\n    </tr>\n    <tr>\n      <td>120</td>\n      <td>2.885400</td>\n    </tr>\n    <tr>\n      <td>130</td>\n      <td>2.852000</td>\n    </tr>\n    <tr>\n      <td>140</td>\n      <td>2.776300</td>\n    </tr>\n    <tr>\n      <td>150</td>\n      <td>2.872000</td>\n    </tr>\n    <tr>\n      <td>160</td>\n      <td>2.848500</td>\n    </tr>\n    <tr>\n      <td>170</td>\n      <td>2.840100</td>\n    </tr>\n    <tr>\n      <td>180</td>\n      <td>2.695900</td>\n    </tr>\n    <tr>\n      <td>190</td>\n      <td>2.719800</td>\n    </tr>\n  </tbody>\n</table><p>"
     },
     "metadata": {},
     "output_type": "display_data"
    },
    {
     "data": {
      "text/plain": "<IPython.core.display.HTML object>",
      "text/html": "\n    <div>\n      \n      <progress value='233' max='233' style='width:300px; height:20px; vertical-align: middle;'></progress>\n      [233/233 04:17, Epoch 0/1]\n    </div>\n    <table border=\"1\" class=\"dataframe\">\n  <thead>\n <tr style=\"text-align: left;\">\n      <th>Step</th>\n      <th>Training Loss</th>\n    </tr>\n  </thead>\n  <tbody>\n    <tr>\n      <td>10</td>\n      <td>3.949400</td>\n    </tr>\n    <tr>\n      <td>20</td>\n      <td>3.291100</td>\n    </tr>\n    <tr>\n      <td>30</td>\n      <td>3.047900</td>\n    </tr>\n    <tr>\n      <td>40</td>\n      <td>2.943800</td>\n    </tr>\n    <tr>\n      <td>50</td>\n      <td>2.922900</td>\n    </tr>\n    <tr>\n      <td>60</td>\n      <td>2.918700</td>\n    </tr>\n    <tr>\n      <td>70</td>\n      <td>2.850100</td>\n    </tr>\n    <tr>\n      <td>80</td>\n      <td>2.903500</td>\n    </tr>\n    <tr>\n      <td>90</td>\n      <td>2.896400</td>\n    </tr>\n    <tr>\n      <td>100</td>\n      <td>2.775000</td>\n    </tr>\n    <tr>\n      <td>110</td>\n      <td>2.769800</td>\n    </tr>\n    <tr>\n      <td>120</td>\n      <td>2.885400</td>\n    </tr>\n    <tr>\n      <td>130</td>\n      <td>2.852000</td>\n    </tr>\n    <tr>\n      <td>140</td>\n      <td>2.776300</td>\n    </tr>\n    <tr>\n      <td>150</td>\n      <td>2.872000</td>\n    </tr>\n    <tr>\n      <td>160</td>\n      <td>2.848500</td>\n    </tr>\n    <tr>\n      <td>170</td>\n      <td>2.840100</td>\n    </tr>\n    <tr>\n      <td>180</td>\n      <td>2.695900</td>\n    </tr>\n    <tr>\n      <td>190</td>\n      <td>2.719800</td>\n    </tr>\n    <tr>\n      <td>200</td>\n      <td>2.792500</td>\n    </tr>\n    <tr>\n      <td>210</td>\n      <td>2.702100</td>\n    </tr>\n    <tr>\n      <td>220</td>\n      <td>2.752700</td>\n    </tr>\n    <tr>\n      <td>230</td>\n      <td>2.775300</td>\n    </tr>\n  </tbody>\n</table><p>"
     },
     "metadata": {},
     "output_type": "display_data"
    },
    {
     "data": {
      "text/plain": "TrainOutput(global_step=233, training_loss=2.9030128896492235, metrics={'train_runtime': 259.066, 'train_samples_per_second': 14.394, 'train_steps_per_second': 0.899, 'total_flos': 1.6972641920876544e+16, 'train_loss': 2.9030128896492235, 'epoch': 0.9989281886387996})"
     },
     "execution_count": 7,
     "metadata": {},
     "output_type": "execute_result"
    }
   ],
   "source": [
    "trainer.train()"
   ],
   "metadata": {
    "collapsed": false,
    "ExecuteTime": {
     "end_time": "2024-08-25T06:31:20.403971Z",
     "start_time": "2024-08-25T06:27:01.203911Z"
    }
   },
   "id": "2b74e5806dd9668b",
   "execution_count": 7
  },
  {
   "cell_type": "code",
   "outputs": [
    {
     "name": "stdout",
     "output_type": "stream",
     "text": [
      "[[128000, 128006, 882, 128007, 271, 57668, 105424, 101879, 11571, 128009, 128006, 78191, 128007, 271]]\n"
     ]
    }
   ],
   "source": [
    "dialogs = [[\n",
    "    # {\"role\": \"system\", \"content\": \"现在你要扮演皇帝身边的女人--甄嬛\"},\n",
    "    {\"role\": \"user\", \"content\": \"你叫什么？\"}\n",
    "]]\n",
    "chats = tokenizer.apply_chat_template(dialogs, add_generation_prompt=True, tokenize=True)\n",
    "\n",
    "print(chats)"
   ],
   "metadata": {
    "collapsed": false,
    "ExecuteTime": {
     "end_time": "2024-08-25T06:36:00.659853Z",
     "start_time": "2024-08-25T06:36:00.642390Z"
    }
   },
   "id": "ffc4012cdddd3696",
   "execution_count": 27
  },
  {
   "cell_type": "code",
   "outputs": [
    {
     "name": "stderr",
     "output_type": "stream",
     "text": [
      "The attention mask and the pad token id were not set. As a consequence, you may observe unexpected behavior. Please pass your input's `attention_mask` to obtain reliable results.\n",
      "Setting `pad_token_id` to `eos_token_id`:128009 for open-end generation.\n"
     ]
    },
    {
     "name": "stdout",
     "output_type": "stream",
     "text": [
      "tensor([[128000, 128006,    882, 128007,    271,  57668, 105424, 101879,  11571,\n",
      "         128009, 128006,  78191, 128007,    271, 113524, 100525,    122,  21043,\n",
      "           7518,    226, 115003,    249,   3922,  46729, 104503,  21043,  27384,\n",
      "          22649, 108553,  83747,  11239,    123,   7518,    226, 106297,  45893,\n",
      "           1811, 128009]], device='cuda:0')\n",
      "Model output:\n",
      "user\n",
      "\n",
      "你叫什么？assistant\n",
      "\n",
      "臣妾是甄嬛，家父是大理寺少卿甄远道。\n"
     ]
    }
   ],
   "source": [
    "model.eval()\n",
    "\n",
    "with torch.no_grad():\n",
    "    for idx, chat in enumerate(chats):\n",
    "        tokens = torch.tensor(chat).long()\n",
    "        tokens = tokens.unsqueeze(0)\n",
    "        tokens = tokens.to(\"cuda:0\")\n",
    "        outputs = model.generate(\n",
    "            input_ids=tokens,\n",
    "            max_new_tokens=50,\n",
    "            do_sample=True,\n",
    "            # top_p=0.9,\n",
    "            temperature=1,\n",
    "            use_cache=True,\n",
    "            top_k=50,\n",
    "            # repetition_penalty=1.0,\n",
    "            # length_penalty=1,\n",
    "            eos_token_id=tokenizer.encode('<|eot_id|>', add_special_tokens=False)[0]\n",
    "        )\n",
    "        print(outputs)\n",
    "        output_text = tokenizer.decode(outputs[0], skip_special_tokens=True)\n",
    "        print(f\"Model output:\\n{output_text}\")"
   ],
   "metadata": {
    "collapsed": false,
    "ExecuteTime": {
     "end_time": "2024-08-25T06:37:25.279666Z",
     "start_time": "2024-08-25T06:37:23.533986Z"
    }
   },
   "id": "f931d10aa15b3a4a",
   "execution_count": 29
  },
  {
   "cell_type": "code",
   "outputs": [],
   "source": [],
   "metadata": {
    "collapsed": false
   },
   "id": "582ec39e538d58e4"
  }
 ],
 "metadata": {
  "kernelspec": {
   "display_name": "Python 3",
   "language": "python",
   "name": "python3"
  },
  "language_info": {
   "codemirror_mode": {
    "name": "ipython",
    "version": 2
   },
   "file_extension": ".py",
   "mimetype": "text/x-python",
   "name": "python",
   "nbconvert_exporter": "python",
   "pygments_lexer": "ipython2",
   "version": "2.7.6"
  }
 },
 "nbformat": 4,
 "nbformat_minor": 5
}
